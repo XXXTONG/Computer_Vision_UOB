{
 "cells": [
  {
   "attachments": {},
   "cell_type": "markdown",
   "metadata": {},
   "source": [
    "# Lab 1\n",
    "\n",
    "In this lab exercise, you will look at applying edge detectors to images and comparing two different methods. You will also learn how to write a function in Python and evaluate the difference when using an approximation for the calculation of a parameter.\n",
    "\n",
    "At this stage, we will assume that you are able to use Python, and understand its basic use. **You are asked to write a short (no more than 2 pages) report of your work**, answering specific questions, and showing example images. This work is not assessed (it will not count towards your module mark) but you will get formative feedback.\n",
    "\n",
    "### Introduction\n",
    "\n",
    "First we will cover some basics regarding Python and Image Manipulation.\n",
    "\n",
    "The first step is importing the required packages. In this assignment we will be using [scikit-image](https://scikit-image.org/), [MatPlotLib](https://matplotlib.org/) and [Numpy](https://numpy.org/). We have also provided helper functions for displaying the images inline. Check that your environment is configured correctly by running the section below. If this section fails, refer to the README on how to set up the environment."
   ]
  },
  {
   "cell_type": "code",
   "execution_count": null,
   "metadata": {},
   "outputs": [],
   "source": [
    "# Imports\n",
    "import skimage\n",
    "import scipy\n",
    "from matplotlib import pyplot as plt\n",
    "import numpy as np\n",
    "from utils import show_binary_image"
   ]
  },
  {
   "attachments": {},
   "cell_type": "markdown",
   "metadata": {},
   "source": [
    "In order to load images we use the [imread](https://scikit-image.org/docs/stable/user_guide/getting_started.html) function which is part of scikit-image. Images can be displayed using the show_rgb_image helper function. Read through this function to understand how it works. We can also see the raw image data by printing the variable using ```print```. As can be seen, by default in Skimage image pixels are represented as bytes with a range of 0-255. "
   ]
  },
  {
   "cell_type": "code",
   "execution_count": null,
   "metadata": {},
   "outputs": [],
   "source": [
    "\n",
    "# Read image\n",
    "shakey = skimage.io.imread('shakey.jpg')[:,:,0] #Extract the Green Channel\n",
    "\n",
    "# Display the image\n",
    "plt.imshow(shakey,cmap=\"gray\")\n",
    "plt.title(\"Original Image\")\n",
    "plt.axis('off')\n",
    "plt.show()\n",
    "\n",
    "print(\"Shakey raw values\", shakey)"
   ]
  },
  {
   "attachments": {},
   "cell_type": "markdown",
   "metadata": {},
   "source": [
    "In scikit we perform convolution using the convolve2d function. Kernels can be defined as numpy arrays as seen below. A detailed guide to this function can be found here: https://docs.scipy.org/doc/scipy/reference/generated/scipy.signal.convolve2d.html"
   ]
  },
  {
   "cell_type": "code",
   "execution_count": null,
   "metadata": {},
   "outputs": [],
   "source": [
    "sobel_x = np.array(\n",
    "    [[1,0,-1],\n",
    "     [2,0,-2],\n",
    "     [1,0,-1]])\n",
    "\n",
    "sobel_y = np.array(\n",
    "    [[1,2,1],\n",
    "     [0,0,0],\n",
    "     [-1,-2,-1]])\n",
    "\n",
    "print(sobel_y)"
   ]
  },
  {
   "cell_type": "code",
   "execution_count": null,
   "metadata": {},
   "outputs": [],
   "source": [
    "# Applying a filter\n",
    "# We convert the output type to floats in order to preserve negative gradients\n",
    "# We can also threshold the image using the > operator\n",
    "threshold_shakey_sobel_x = abs(scipy.signal.convolve2d(shakey, sobel_x))>50\n",
    "\n",
    "print(\"Boolean Thesholded Values:\")\n",
    "print(threshold_shakey_sobel_x)\n",
    "\n",
    "# Here we use the binary helper function as our image is now binary\n",
    "print(\"Boolean Thesholded Image:\")\n",
    "show_binary_image(threshold_shakey_sobel_x)\n"
   ]
  },
  {
   "attachments": {},
   "cell_type": "markdown",
   "metadata": {},
   "source": [
    "# Task1\n",
    "\n",
    "Combine the two resulting arrays (shakey_sobel_x and shakey_sobel_y) using Pythagoras theorem. To do this you will have to make your own function, such that:\n",
    "\n",
    "```m = magnitude(x,y)```\n",
    "\n",
    "Now display the resulting image using\n",
    "\n",
    "```show_rgb_image(m)```\n",
    "\n",
    "You can also display this edge image after thresholding it,\n",
    "\n",
    "```show_binary_image(m>40)```\n",
    "\n",
    "Create several of these with different thresholds.\n",
    "\n",
    "**QUESTION 1: What do you notice regarding the effect of changing the threshold? State both your observations and the reasons for the observations. Show your code, results and answer in the report.**"
   ]
  },
  {
   "cell_type": "code",
   "execution_count": null,
   "metadata": {},
   "outputs": [],
   "source": [
    "# Complete Task 1 here"
   ]
  },
  {
   "attachments": {},
   "cell_type": "markdown",
   "metadata": {},
   "source": [
    "# Task 2\n",
    "\n",
    "Repeat your previous exercise, with the Roberts operator.\n",
    "\n",
    "The Roberts operator is defined as:\n",
    "\n",
    "$$\n",
    "Gx = \n",
    "\\begin{matrix}\n",
    "+1 & 0 \\\\\n",
    "0 & -1 \n",
    "\\end{matrix}\n",
    "$$\n",
    "\n",
    "$$\n",
    "Gy = \n",
    "\\begin{matrix}\n",
    "0 & +1 \\\\\n",
    "-1 & 0 \n",
    "\\end{matrix}\n",
    "$$\n",
    "\n",
    "**QUESTION 2: What do you notice regarding the difference between Sobel and Roberts? State both your observations and the reasons for the observations.**"
   ]
  },
  {
   "cell_type": "code",
   "execution_count": null,
   "metadata": {},
   "outputs": [],
   "source": [
    "# Complete Task 2 here"
   ]
  },
  {
   "attachments": {},
   "cell_type": "markdown",
   "metadata": {},
   "source": [
    "# Task 3\n",
    "\n",
    "You now need to write a new function, that rather than taking the magnitude of the gradients, it takes the absolute value of |Gx|+|Gy|. This is an approximation to the magnitude.\n",
    "\n",
    "**QUESTION 3: What do you notice regarding the difference between magnitude and absolute when calculating the edge? State both your observations and the reasons for the observations.**"
   ]
  },
  {
   "cell_type": "code",
   "execution_count": null,
   "metadata": {},
   "outputs": [],
   "source": [
    "# Complete Task 3 here"
   ]
  }
 ],
 "metadata": {
  "kernelspec": {
   "display_name": "venv",
   "language": "python",
   "name": "python3"
  },
  "language_info": {
   "codemirror_mode": {
    "name": "ipython",
    "version": 3
   },
   "file_extension": ".py",
   "mimetype": "text/x-python",
   "name": "python",
   "nbconvert_exporter": "python",
   "pygments_lexer": "ipython3",
   "version": "3.12.0"
  },
  "orig_nbformat": 4,
  "vscode": {
   "interpreter": {
    "hash": "74a34817a5cd2140ee5dc8be93178d611a51b0c87e7dbd285328f223a7951b22"
   }
  }
 },
 "nbformat": 4,
 "nbformat_minor": 2
}
